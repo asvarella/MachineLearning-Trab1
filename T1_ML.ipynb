{
  "nbformat": 4,
  "nbformat_minor": 0,
  "metadata": {
    "colab": {
      "provenance": [],
      "collapsed_sections": [
        "AxImWBZdMsNN",
        "NFl8UcvcSojo"
      ],
      "toc_visible": true
    },
    "kernelspec": {
      "name": "python3",
      "display_name": "Python 3"
    },
    "language_info": {
      "name": "python"
    }
  },
  "cells": [
    {
      "cell_type": "markdown",
      "source": [
        "# INF01017 - Aprendizado de Máquina (2022/2)\n",
        "\n",
        "Profª Mariana Recamonde Mendoza\n",
        "\n",
        "# TRABALHO PRÁTICO 1 - CLASSIFICAÇÃO DE OBJETOS ESTELARES\n",
        "\n",
        "**GRUPO 10**\n",
        "\n",
        "Alice Santin Varella - 00259915 - asvarella@inf.ufrgs.br\n",
        "\n",
        "Leonardo de Souza Augusto - 00278998 - lsaugusto@inf.ufrgs.br\n",
        "\n",
        "Ronald de Souza Maciel - 00281987 - rsmaciel@inf.ufrgs.br\n"
      ],
      "metadata": {
        "id": "S1JIwCjQgaS-"
      }
    },
    {
      "cell_type": "markdown",
      "source": [
        " ## Introdução\n",
        "\n",
        "Espectroscopia é o estudo dos fenômenos físico-químicos que ocorrem durante a interação de radiação eletromagnética com matéria. A observação das variações nos níveis de energia de moléculas ou átomos é capaz de fornecer informações cruciais sobre a natureza do objeto observado, seja ele um corpo estelar de dimensões inimagináveis ou uma substância em um pequeno tubo de ensaio de laboratório.\n",
        "\n",
        "A partir de uma base de dados com 100 mil instâncias de observações e classificações feitas pelo *Sloan Digital Sky Survey* (SDSS), o grupo fez uso de modelos preditivos de aprendizado de máquina para criar um classificador de objetos estelares capaz de avaliar se um determinado corpo celeste é uma estrela, uma galáxia ou um quasar. Para isso, foram utilizados algoritmos de aprendizado supervisionado. A avaliação foi feita com o uso de K-Fold Cross Validation e de métricas de avaliação de modelos."
      ],
      "metadata": {
        "id": "GSC5Smoy3Gpg"
      }
    },
    {
      "cell_type": "markdown",
      "source": [
        "# Passos Iniciais\n",
        "Importar bibliotecas e fazer a leitura dos dados que serão utilizados no estudo."
      ],
      "metadata": {
        "id": "dVAhTbujyaPS"
      }
    },
    {
      "cell_type": "markdown",
      "source": [
        "## Imports"
      ],
      "metadata": {
        "id": "MaLVP6bGqKI2"
      }
    },
    {
      "cell_type": "code",
      "source": [
        "!pip install mlxtend #instalando biblioteca mlxtend"
      ],
      "metadata": {
        "id": "lCqcOX-zUD7B"
      },
      "execution_count": null,
      "outputs": []
    },
    {
      "cell_type": "code",
      "source": [
        "# imports\n",
        "%matplotlib inline\n",
        "import pandas as pd\n",
        "import matplotlib.pyplot as plt\n",
        "import numpy as np\n",
        "import collections\n",
        "from sklearn.model_selection import train_test_split\n",
        "from sklearn.preprocessing import LabelEncoder"
      ],
      "metadata": {
        "id": "9tulviGNUWsP"
      },
      "execution_count": null,
      "outputs": []
    },
    {
      "cell_type": "markdown",
      "source": [
        "## Fazendo a leitura dos dados:\n"
      ],
      "metadata": {
        "id": "YZVR44qZdcD0"
      }
    },
    {
      "cell_type": "code",
      "source": [
        "data = pd.read_csv('https://drive.google.com/uc?export=view&id=1lfZtV9ci2q36HLkq6GbVrh7BI-1BAHns')\n",
        "data"
      ],
      "metadata": {
        "id": "1CkVm3E8Udpa",
        "colab": {
          "base_uri": "https://localhost:8080/",
          "height": 424
        },
        "outputId": "69aa274a-29df-4af3-f5cc-4407b9d91ce2"
      },
      "execution_count": null,
      "outputs": [
        {
          "output_type": "execute_result",
          "data": {
            "text/plain": [
              "             obj_ID       alpha      delta         u         g         r  \\\n",
              "0      1.237661e+18  135.689107  32.494632  23.87882  22.27530  20.39501   \n",
              "1      1.237665e+18  144.826101  31.274185  24.77759  22.83188  22.58444   \n",
              "2      1.237661e+18  142.188790  35.582444  25.26307  22.66389  20.60976   \n",
              "3      1.237663e+18  338.741038  -0.402828  22.13682  23.77656  21.61162   \n",
              "4      1.237680e+18  345.282593  21.183866  19.43718  17.58028  16.49747   \n",
              "...             ...         ...        ...       ...       ...       ...   \n",
              "99995  1.237679e+18   39.620709  -2.594074  22.16759  22.97586  21.90404   \n",
              "99996  1.237679e+18   29.493819  19.798874  22.69118  22.38628  20.45003   \n",
              "99997  1.237668e+18  224.587407  15.700707  21.16916  19.26997  18.20428   \n",
              "99998  1.237661e+18  212.268621  46.660365  25.35039  21.63757  19.91386   \n",
              "99999  1.237661e+18  196.896053  49.464643  22.62171  21.79745  20.60115   \n",
              "\n",
              "              i         z  run_ID  rerun_ID  cam_col  field_ID   spec_obj_ID  \\\n",
              "0      19.16573  18.79371    3606       301        2        79  6.543777e+18   \n",
              "1      21.16812  21.61427    4518       301        5       119  1.176014e+19   \n",
              "2      19.34857  18.94827    3606       301        2       120  5.152200e+18   \n",
              "3      20.50454  19.25010    4192       301        3       214  1.030107e+19   \n",
              "4      15.97711  15.54461    8102       301        3       137  6.891865e+18   \n",
              "...         ...       ...     ...       ...      ...       ...           ...   \n",
              "99995  21.30548  20.73569    7778       301        2       581  1.055431e+19   \n",
              "99996  19.75759  19.41526    7917       301        1       289  8.586351e+18   \n",
              "99997  17.69034  17.35221    5314       301        4       308  3.112008e+18   \n",
              "99998  19.07254  18.62482    3650       301        4       131  7.601080e+18   \n",
              "99999  20.00959  19.28075    3650       301        4        60  8.343152e+18   \n",
              "\n",
              "        class  redshift  plate    MJD  fiber_ID  \n",
              "0      GALAXY  0.634794   5812  56354       171  \n",
              "1      GALAXY  0.779136  10445  58158       427  \n",
              "2      GALAXY  0.644195   4576  55592       299  \n",
              "3      GALAXY  0.932346   9149  58039       775  \n",
              "4      GALAXY  0.116123   6121  56187       842  \n",
              "...       ...       ...    ...    ...       ...  \n",
              "99995  GALAXY  0.000000   9374  57749       438  \n",
              "99996  GALAXY  0.404895   7626  56934       866  \n",
              "99997  GALAXY  0.143366   2764  54535        74  \n",
              "99998  GALAXY  0.455040   6751  56368       470  \n",
              "99999  GALAXY  0.542944   7410  57104       851  \n",
              "\n",
              "[100000 rows x 18 columns]"
            ],
            "text/html": [
              "\n",
              "  <div id=\"df-714573b9-9bd1-4e9f-95de-95d604a3da55\">\n",
              "    <div class=\"colab-df-container\">\n",
              "      <div>\n",
              "<style scoped>\n",
              "    .dataframe tbody tr th:only-of-type {\n",
              "        vertical-align: middle;\n",
              "    }\n",
              "\n",
              "    .dataframe tbody tr th {\n",
              "        vertical-align: top;\n",
              "    }\n",
              "\n",
              "    .dataframe thead th {\n",
              "        text-align: right;\n",
              "    }\n",
              "</style>\n",
              "<table border=\"1\" class=\"dataframe\">\n",
              "  <thead>\n",
              "    <tr style=\"text-align: right;\">\n",
              "      <th></th>\n",
              "      <th>obj_ID</th>\n",
              "      <th>alpha</th>\n",
              "      <th>delta</th>\n",
              "      <th>u</th>\n",
              "      <th>g</th>\n",
              "      <th>r</th>\n",
              "      <th>i</th>\n",
              "      <th>z</th>\n",
              "      <th>run_ID</th>\n",
              "      <th>rerun_ID</th>\n",
              "      <th>cam_col</th>\n",
              "      <th>field_ID</th>\n",
              "      <th>spec_obj_ID</th>\n",
              "      <th>class</th>\n",
              "      <th>redshift</th>\n",
              "      <th>plate</th>\n",
              "      <th>MJD</th>\n",
              "      <th>fiber_ID</th>\n",
              "    </tr>\n",
              "  </thead>\n",
              "  <tbody>\n",
              "    <tr>\n",
              "      <th>0</th>\n",
              "      <td>1.237661e+18</td>\n",
              "      <td>135.689107</td>\n",
              "      <td>32.494632</td>\n",
              "      <td>23.87882</td>\n",
              "      <td>22.27530</td>\n",
              "      <td>20.39501</td>\n",
              "      <td>19.16573</td>\n",
              "      <td>18.79371</td>\n",
              "      <td>3606</td>\n",
              "      <td>301</td>\n",
              "      <td>2</td>\n",
              "      <td>79</td>\n",
              "      <td>6.543777e+18</td>\n",
              "      <td>GALAXY</td>\n",
              "      <td>0.634794</td>\n",
              "      <td>5812</td>\n",
              "      <td>56354</td>\n",
              "      <td>171</td>\n",
              "    </tr>\n",
              "    <tr>\n",
              "      <th>1</th>\n",
              "      <td>1.237665e+18</td>\n",
              "      <td>144.826101</td>\n",
              "      <td>31.274185</td>\n",
              "      <td>24.77759</td>\n",
              "      <td>22.83188</td>\n",
              "      <td>22.58444</td>\n",
              "      <td>21.16812</td>\n",
              "      <td>21.61427</td>\n",
              "      <td>4518</td>\n",
              "      <td>301</td>\n",
              "      <td>5</td>\n",
              "      <td>119</td>\n",
              "      <td>1.176014e+19</td>\n",
              "      <td>GALAXY</td>\n",
              "      <td>0.779136</td>\n",
              "      <td>10445</td>\n",
              "      <td>58158</td>\n",
              "      <td>427</td>\n",
              "    </tr>\n",
              "    <tr>\n",
              "      <th>2</th>\n",
              "      <td>1.237661e+18</td>\n",
              "      <td>142.188790</td>\n",
              "      <td>35.582444</td>\n",
              "      <td>25.26307</td>\n",
              "      <td>22.66389</td>\n",
              "      <td>20.60976</td>\n",
              "      <td>19.34857</td>\n",
              "      <td>18.94827</td>\n",
              "      <td>3606</td>\n",
              "      <td>301</td>\n",
              "      <td>2</td>\n",
              "      <td>120</td>\n",
              "      <td>5.152200e+18</td>\n",
              "      <td>GALAXY</td>\n",
              "      <td>0.644195</td>\n",
              "      <td>4576</td>\n",
              "      <td>55592</td>\n",
              "      <td>299</td>\n",
              "    </tr>\n",
              "    <tr>\n",
              "      <th>3</th>\n",
              "      <td>1.237663e+18</td>\n",
              "      <td>338.741038</td>\n",
              "      <td>-0.402828</td>\n",
              "      <td>22.13682</td>\n",
              "      <td>23.77656</td>\n",
              "      <td>21.61162</td>\n",
              "      <td>20.50454</td>\n",
              "      <td>19.25010</td>\n",
              "      <td>4192</td>\n",
              "      <td>301</td>\n",
              "      <td>3</td>\n",
              "      <td>214</td>\n",
              "      <td>1.030107e+19</td>\n",
              "      <td>GALAXY</td>\n",
              "      <td>0.932346</td>\n",
              "      <td>9149</td>\n",
              "      <td>58039</td>\n",
              "      <td>775</td>\n",
              "    </tr>\n",
              "    <tr>\n",
              "      <th>4</th>\n",
              "      <td>1.237680e+18</td>\n",
              "      <td>345.282593</td>\n",
              "      <td>21.183866</td>\n",
              "      <td>19.43718</td>\n",
              "      <td>17.58028</td>\n",
              "      <td>16.49747</td>\n",
              "      <td>15.97711</td>\n",
              "      <td>15.54461</td>\n",
              "      <td>8102</td>\n",
              "      <td>301</td>\n",
              "      <td>3</td>\n",
              "      <td>137</td>\n",
              "      <td>6.891865e+18</td>\n",
              "      <td>GALAXY</td>\n",
              "      <td>0.116123</td>\n",
              "      <td>6121</td>\n",
              "      <td>56187</td>\n",
              "      <td>842</td>\n",
              "    </tr>\n",
              "    <tr>\n",
              "      <th>...</th>\n",
              "      <td>...</td>\n",
              "      <td>...</td>\n",
              "      <td>...</td>\n",
              "      <td>...</td>\n",
              "      <td>...</td>\n",
              "      <td>...</td>\n",
              "      <td>...</td>\n",
              "      <td>...</td>\n",
              "      <td>...</td>\n",
              "      <td>...</td>\n",
              "      <td>...</td>\n",
              "      <td>...</td>\n",
              "      <td>...</td>\n",
              "      <td>...</td>\n",
              "      <td>...</td>\n",
              "      <td>...</td>\n",
              "      <td>...</td>\n",
              "      <td>...</td>\n",
              "    </tr>\n",
              "    <tr>\n",
              "      <th>99995</th>\n",
              "      <td>1.237679e+18</td>\n",
              "      <td>39.620709</td>\n",
              "      <td>-2.594074</td>\n",
              "      <td>22.16759</td>\n",
              "      <td>22.97586</td>\n",
              "      <td>21.90404</td>\n",
              "      <td>21.30548</td>\n",
              "      <td>20.73569</td>\n",
              "      <td>7778</td>\n",
              "      <td>301</td>\n",
              "      <td>2</td>\n",
              "      <td>581</td>\n",
              "      <td>1.055431e+19</td>\n",
              "      <td>GALAXY</td>\n",
              "      <td>0.000000</td>\n",
              "      <td>9374</td>\n",
              "      <td>57749</td>\n",
              "      <td>438</td>\n",
              "    </tr>\n",
              "    <tr>\n",
              "      <th>99996</th>\n",
              "      <td>1.237679e+18</td>\n",
              "      <td>29.493819</td>\n",
              "      <td>19.798874</td>\n",
              "      <td>22.69118</td>\n",
              "      <td>22.38628</td>\n",
              "      <td>20.45003</td>\n",
              "      <td>19.75759</td>\n",
              "      <td>19.41526</td>\n",
              "      <td>7917</td>\n",
              "      <td>301</td>\n",
              "      <td>1</td>\n",
              "      <td>289</td>\n",
              "      <td>8.586351e+18</td>\n",
              "      <td>GALAXY</td>\n",
              "      <td>0.404895</td>\n",
              "      <td>7626</td>\n",
              "      <td>56934</td>\n",
              "      <td>866</td>\n",
              "    </tr>\n",
              "    <tr>\n",
              "      <th>99997</th>\n",
              "      <td>1.237668e+18</td>\n",
              "      <td>224.587407</td>\n",
              "      <td>15.700707</td>\n",
              "      <td>21.16916</td>\n",
              "      <td>19.26997</td>\n",
              "      <td>18.20428</td>\n",
              "      <td>17.69034</td>\n",
              "      <td>17.35221</td>\n",
              "      <td>5314</td>\n",
              "      <td>301</td>\n",
              "      <td>4</td>\n",
              "      <td>308</td>\n",
              "      <td>3.112008e+18</td>\n",
              "      <td>GALAXY</td>\n",
              "      <td>0.143366</td>\n",
              "      <td>2764</td>\n",
              "      <td>54535</td>\n",
              "      <td>74</td>\n",
              "    </tr>\n",
              "    <tr>\n",
              "      <th>99998</th>\n",
              "      <td>1.237661e+18</td>\n",
              "      <td>212.268621</td>\n",
              "      <td>46.660365</td>\n",
              "      <td>25.35039</td>\n",
              "      <td>21.63757</td>\n",
              "      <td>19.91386</td>\n",
              "      <td>19.07254</td>\n",
              "      <td>18.62482</td>\n",
              "      <td>3650</td>\n",
              "      <td>301</td>\n",
              "      <td>4</td>\n",
              "      <td>131</td>\n",
              "      <td>7.601080e+18</td>\n",
              "      <td>GALAXY</td>\n",
              "      <td>0.455040</td>\n",
              "      <td>6751</td>\n",
              "      <td>56368</td>\n",
              "      <td>470</td>\n",
              "    </tr>\n",
              "    <tr>\n",
              "      <th>99999</th>\n",
              "      <td>1.237661e+18</td>\n",
              "      <td>196.896053</td>\n",
              "      <td>49.464643</td>\n",
              "      <td>22.62171</td>\n",
              "      <td>21.79745</td>\n",
              "      <td>20.60115</td>\n",
              "      <td>20.00959</td>\n",
              "      <td>19.28075</td>\n",
              "      <td>3650</td>\n",
              "      <td>301</td>\n",
              "      <td>4</td>\n",
              "      <td>60</td>\n",
              "      <td>8.343152e+18</td>\n",
              "      <td>GALAXY</td>\n",
              "      <td>0.542944</td>\n",
              "      <td>7410</td>\n",
              "      <td>57104</td>\n",
              "      <td>851</td>\n",
              "    </tr>\n",
              "  </tbody>\n",
              "</table>\n",
              "<p>100000 rows × 18 columns</p>\n",
              "</div>\n",
              "      <button class=\"colab-df-convert\" onclick=\"convertToInteractive('df-714573b9-9bd1-4e9f-95de-95d604a3da55')\"\n",
              "              title=\"Convert this dataframe to an interactive table.\"\n",
              "              style=\"display:none;\">\n",
              "        \n",
              "  <svg xmlns=\"http://www.w3.org/2000/svg\" height=\"24px\"viewBox=\"0 0 24 24\"\n",
              "       width=\"24px\">\n",
              "    <path d=\"M0 0h24v24H0V0z\" fill=\"none\"/>\n",
              "    <path d=\"M18.56 5.44l.94 2.06.94-2.06 2.06-.94-2.06-.94-.94-2.06-.94 2.06-2.06.94zm-11 1L8.5 8.5l.94-2.06 2.06-.94-2.06-.94L8.5 2.5l-.94 2.06-2.06.94zm10 10l.94 2.06.94-2.06 2.06-.94-2.06-.94-.94-2.06-.94 2.06-2.06.94z\"/><path d=\"M17.41 7.96l-1.37-1.37c-.4-.4-.92-.59-1.43-.59-.52 0-1.04.2-1.43.59L10.3 9.45l-7.72 7.72c-.78.78-.78 2.05 0 2.83L4 21.41c.39.39.9.59 1.41.59.51 0 1.02-.2 1.41-.59l7.78-7.78 2.81-2.81c.8-.78.8-2.07 0-2.86zM5.41 20L4 18.59l7.72-7.72 1.47 1.35L5.41 20z\"/>\n",
              "  </svg>\n",
              "      </button>\n",
              "      \n",
              "  <style>\n",
              "    .colab-df-container {\n",
              "      display:flex;\n",
              "      flex-wrap:wrap;\n",
              "      gap: 12px;\n",
              "    }\n",
              "\n",
              "    .colab-df-convert {\n",
              "      background-color: #E8F0FE;\n",
              "      border: none;\n",
              "      border-radius: 50%;\n",
              "      cursor: pointer;\n",
              "      display: none;\n",
              "      fill: #1967D2;\n",
              "      height: 32px;\n",
              "      padding: 0 0 0 0;\n",
              "      width: 32px;\n",
              "    }\n",
              "\n",
              "    .colab-df-convert:hover {\n",
              "      background-color: #E2EBFA;\n",
              "      box-shadow: 0px 1px 2px rgba(60, 64, 67, 0.3), 0px 1px 3px 1px rgba(60, 64, 67, 0.15);\n",
              "      fill: #174EA6;\n",
              "    }\n",
              "\n",
              "    [theme=dark] .colab-df-convert {\n",
              "      background-color: #3B4455;\n",
              "      fill: #D2E3FC;\n",
              "    }\n",
              "\n",
              "    [theme=dark] .colab-df-convert:hover {\n",
              "      background-color: #434B5C;\n",
              "      box-shadow: 0px 1px 3px 1px rgba(0, 0, 0, 0.15);\n",
              "      filter: drop-shadow(0px 1px 2px rgba(0, 0, 0, 0.3));\n",
              "      fill: #FFFFFF;\n",
              "    }\n",
              "  </style>\n",
              "\n",
              "      <script>\n",
              "        const buttonEl =\n",
              "          document.querySelector('#df-714573b9-9bd1-4e9f-95de-95d604a3da55 button.colab-df-convert');\n",
              "        buttonEl.style.display =\n",
              "          google.colab.kernel.accessAllowed ? 'block' : 'none';\n",
              "\n",
              "        async function convertToInteractive(key) {\n",
              "          const element = document.querySelector('#df-714573b9-9bd1-4e9f-95de-95d604a3da55');\n",
              "          const dataTable =\n",
              "            await google.colab.kernel.invokeFunction('convertToInteractive',\n",
              "                                                     [key], {});\n",
              "          if (!dataTable) return;\n",
              "\n",
              "          const docLinkHtml = 'Like what you see? Visit the ' +\n",
              "            '<a target=\"_blank\" href=https://colab.research.google.com/notebooks/data_table.ipynb>data table notebook</a>'\n",
              "            + ' to learn more about interactive tables.';\n",
              "          element.innerHTML = '';\n",
              "          dataTable['output_type'] = 'display_data';\n",
              "          await google.colab.output.renderOutput(dataTable, element);\n",
              "          const docLink = document.createElement('div');\n",
              "          docLink.innerHTML = docLinkHtml;\n",
              "          element.appendChild(docLink);\n",
              "        }\n",
              "      </script>\n",
              "    </div>\n",
              "  </div>\n",
              "  "
            ]
          },
          "metadata": {},
          "execution_count": 4
        }
      ]
    },
    {
      "cell_type": "code",
      "source": [
        "data.info()"
      ],
      "metadata": {
        "id": "T01DRARofwnw"
      },
      "execution_count": null,
      "outputs": []
    },
    {
      "cell_type": "markdown",
      "source": [
        "-----"
      ],
      "metadata": {
        "id": "7weTfV8L26Ve"
      }
    },
    {
      "cell_type": "markdown",
      "source": [
        "# Pré-Processamento dos dados\n",
        "Nessa etapa, é necessário certificar-se de que o conjunto dos dados está adequadamente organizado. Um mau conjunto de dados resulta em um desempenho aquém do esperado, independentemente do modelo ser bom ou não."
      ],
      "metadata": {
        "id": "aYUiuOsadnUG"
      }
    },
    {
      "cell_type": "markdown",
      "source": [
        "## Checagem por duplicatas e atributos nulos"
      ],
      "metadata": {
        "id": "ykXrxbD-y50C"
      }
    },
    {
      "cell_type": "code",
      "source": [
        "## Removendo possíveis dados duplicados\n",
        "## Essa base de dados é bem organizada e nenhuma instância é removida, mas a checagem é pertinente\n",
        "\n",
        "data.drop_duplicates(keep='last').shape"
      ],
      "metadata": {
        "id": "Eb1fBBeoXA5V"
      },
      "execution_count": null,
      "outputs": []
    },
    {
      "cell_type": "code",
      "source": [
        "## Checando possíveis elementos nulos ao longo da tabela\n",
        "\n",
        "data.isnull()"
      ],
      "metadata": {
        "id": "dEwCf-5qa23Y"
      },
      "execution_count": null,
      "outputs": []
    },
    {
      "cell_type": "markdown",
      "source": [
        "## Seleção de atributos\n",
        "Para essa seleção de atributos, foi executado o algoritmo das árvores de decisão. Interpretando os resultados, a remoção dos atributos menos relevantes foi feita manualmente."
      ],
      "metadata": {
        "id": "eHEZU93VyFCk"
      }
    },
    {
      "cell_type": "code",
      "source": [
        "## Com base nos pesos calculados pela arvore de decisão, esses atributos são os menos importantes na classificação\n",
        "data = data.drop(['obj_ID','alpha','delta','i','r','run_ID','rerun_ID','cam_col','field_ID','spec_obj_ID','plate','MJD','fiber_ID'], axis = 1)\n",
        "data.info()"
      ],
      "metadata": {
        "id": "W9P3MVeONB7M",
        "colab": {
          "base_uri": "https://localhost:8080/"
        },
        "outputId": "c63201c2-1cd8-4709-9771-d72be613f72c"
      },
      "execution_count": null,
      "outputs": [
        {
          "output_type": "stream",
          "name": "stdout",
          "text": [
            "<class 'pandas.core.frame.DataFrame'>\n",
            "RangeIndex: 100000 entries, 0 to 99999\n",
            "Data columns (total 5 columns):\n",
            " #   Column    Non-Null Count   Dtype  \n",
            "---  ------    --------------   -----  \n",
            " 0   u         100000 non-null  float64\n",
            " 1   g         100000 non-null  float64\n",
            " 2   z         100000 non-null  float64\n",
            " 3   class     100000 non-null  object \n",
            " 4   redshift  100000 non-null  float64\n",
            "dtypes: float64(4), object(1)\n",
            "memory usage: 3.8+ MB\n"
          ]
        }
      ]
    },
    {
      "cell_type": "markdown",
      "source": [
        "## Balanceamento dos dados\n",
        "Checando proporções entre as classes de saída do dataset. Dados muito desbalanceados são problemáticos"
      ],
      "metadata": {
        "id": "VZexIWnj0C_B"
      }
    },
    {
      "cell_type": "code",
      "source": [
        "## Gerando gráficos e dados numéricos a respeito do conteúdo da base de dados\n",
        "\n",
        "## Histograma\n",
        "plt.hist(data['class'])\n",
        "plt.show()\n",
        "\n",
        "## Gerando gráfico em pizza com percentuais\n",
        "class_frequency = collections.Counter(data['class'])\n",
        "plt.pie(class_frequency.values(), labels=class_frequency.keys(), autopct='%1.1f%%')\n",
        "plt.show()\n",
        "\n",
        "## Mostrando o valor bruto da frequência de cada classe na base de dados\n",
        "data['class'].value_counts()"
      ],
      "metadata": {
        "id": "2koKF8M8ZIuC",
        "outputId": "1610c2bf-d145-416b-ee8e-fcd99940c998",
        "colab": {
          "base_uri": "https://localhost:8080/",
          "height": 565
        }
      },
      "execution_count": null,
      "outputs": [
        {
          "output_type": "display_data",
          "data": {
            "text/plain": [
              "<Figure size 432x288 with 1 Axes>"
            ],
            "image/png": "[encoded data removed]"
          },
          "metadata": {
            "needs_background": "light"
          }
        },
        {
          "output_type": "display_data",
          "data": {
            "text/plain": [
              "<Figure size 432x288 with 1 Axes>"
            ],
            "image/png": "[encoded data removed]"
          },
          "metadata": {}
        },
        {
          "output_type": "execute_result",
          "data": {
            "text/plain": [
              "GALAXY    59445\n",
              "STAR      21594\n",
              "QSO       18961\n",
              "Name: class, dtype: int64"
            ]
          },
          "metadata": {},
          "execution_count": 23
        }
      ]
    },
    {
      "cell_type": "markdown",
      "source": [
        "Os dados acima acusam um grande desbalanceamento na distribuição das classes. Enquanto foram registradas (aproximadamente) 21 mil ocorrências para estrelas e 19 mil para quasares, o conjunto de dados apresenta quase 60 mil ocorrências de galáxias somente.\n",
        "\n",
        "Tal discrepância é esperada devido ao fato de que os dados são um estudo de corpos celestes do espaço profundo; nesses casos, a incidência de galáxias observadas é consistentemente muito maior do que a incidência de outros corpos estelares.\n",
        "\n",
        "Ainda assim, para o treinamento dos modelos, será necessária a manutenção dessa discrepância fazendo o balanceamento do conjunto de dados."
      ],
      "metadata": {
        "id": "Gp-REWoffpHp"
      }
    },
    {
      "cell_type": "markdown",
      "source": [
        "### Solução: Undersampling +  SMOTE"
      ],
      "metadata": {
        "id": "fhgywVflRI3j"
      }
    },
    {
      "cell_type": "code",
      "source": [
        "## Executando Undersampling + SMOTE\n",
        "from imblearn.under_sampling import RandomUnderSampler \n",
        "from imblearn.over_sampling import SMOTE\n",
        "\n",
        "## Separando a base de dados em atributos (x) e classificação (y)\n",
        "x = data.drop(['class'], axis = 1)\n",
        "y = data.loc[:,'class'].values\n",
        "\n",
        "## Frequência de cada classe - Para estratégia de Undersample\n",
        "class_frequency = collections.Counter(data['class'])\n",
        "\n",
        "## Definindo estratégia de SMOTE\n",
        "sm = SMOTE(sampling_strategy = 'minority')\n",
        "\n",
        "## Definindo estratégia de Undersample\n",
        "undersampling_strategy = {'GALAXY': class_frequency.get('STAR'), 'STAR': class_frequency.get('STAR')}\n",
        "undersample = RandomUnderSampler(sampling_strategy = undersampling_strategy)\n",
        "\n",
        "## Normalizando os dados e mostrando gráfico com dados balanceados\n",
        "x, y = undersample.fit_resample(x,y)\n",
        "x, y = sm.fit_resample(x, y)\n",
        "\n",
        "## Histograma\n",
        "plt.hist(y)\n",
        "plt.show()\n",
        "\n",
        "## Gráfico em pizza\n",
        "balanced_class_frequency = collections.Counter(y)\n",
        "plt.pie(balanced_class_frequency.values(), labels=balanced_class_frequency.keys(), autopct='%1.1f%%')\n",
        "plt.show()"
      ],
      "metadata": {
        "id": "mm34PyNW7Xhl",
        "colab": {
          "base_uri": "https://localhost:8080/",
          "height": 496
        },
        "outputId": "d460e843-d8ab-4c97-dbec-4d0e3a4ef701"
      },
      "execution_count": null,
      "outputs": [
        {
          "output_type": "display_data",
          "data": {
            "text/plain": [
              "<Figure size 432x288 with 1 Axes>"
            ],
            "image/png": "[encoded data removed]"
          },
          "metadata": {
            "needs_background": "light"
          }
        },
        {
          "output_type": "display_data",
          "data": {
            "text/plain": [
              "<Figure size 432x288 with 1 Axes>"
            ],
            "image/png": "[encoded data removed]"
          },
          "metadata": {}
        }
      ]
    },
    {
      "cell_type": "markdown",
      "source": [
        "## Codificação de valor categórico para valor numérico"
      ],
      "metadata": {
        "id": "_N_npr8a0Y_i"
      }
    },
    {
      "cell_type": "code",
      "source": [
        "# Codificar a classe de valor categórico nominal para valor numérico\n",
        "encoded_data = pd.get_dummies(y, columns=['class'])\n",
        "print(encoded_data['GALAXY'].value_counts())\n",
        "print(encoded_data['QSO'].value_counts())\n",
        "print(encoded_data['STAR'].value_counts())"
      ],
      "metadata": {
        "id": "7pmOQIUQvOuX",
        "colab": {
          "base_uri": "https://localhost:8080/"
        },
        "outputId": "6bd6faa1-bba1-4636-c1c4-3031ae592818"
      },
      "execution_count": null,
      "outputs": [
        {
          "output_type": "stream",
          "name": "stdout",
          "text": [
            "0    43188\n",
            "1    21594\n",
            "Name: GALAXY, dtype: int64\n",
            "0    43188\n",
            "1    21594\n",
            "Name: QSO, dtype: int64\n",
            "0    43188\n",
            "1    21594\n",
            "Name: STAR, dtype: int64\n"
          ]
        }
      ]
    },
    {
      "cell_type": "markdown",
      "source": [
        "---------------"
      ],
      "metadata": {
        "id": "uWBKdQQu29Bk"
      }
    },
    {
      "cell_type": "markdown",
      "source": [
        "# Implementações de Avaliação de Desempenho:\n",
        "\n",
        "Para avaliação do desempenho, foram implementados dois métodos de avaliação:\n",
        "\n",
        "\n",
        "*   Matriz de Confusão\n",
        "*   *K-fold Cross Validation* (Estratificado)\n",
        "\n",
        "A seção abaixo documenta as implementações próprias do grupo para a matriz de confusão e o k-fold."
      ],
      "metadata": {
        "id": "31ir0CJeimwJ"
      }
    },
    {
      "cell_type": "markdown",
      "source": [
        "## 1. Implementação da Matriz de Confusão\n",
        "\n",
        "As células abaixo apresentam várias funções criadas como base para a implementação `confusionMatrix()` feita pelo grupo.\n",
        "\n",
        "A primeira função, `getClassIndex()`, identifica qual coluna do conjunto `predicted[][]` corresponde à classe que está sendo avaliada no treinamento:"
      ],
      "metadata": {
        "id": "X0I12GI4x2Io"
      }
    },
    {
      "cell_type": "code",
      "source": [
        "## Calcula o índice de cada classLabel na matriz de predicted:\n",
        "def getClassIndex(label):\n",
        "    if label == 'GALAXY':\n",
        "        return 0\n",
        "    elif label == 'QSO':\n",
        "        return 1\n",
        "    else:\n",
        "        return 2"
      ],
      "metadata": {
        "id": "cAJ-3L0MndLc"
      },
      "execution_count": null,
      "outputs": []
    },
    {
      "cell_type": "markdown",
      "source": [
        "A segunda função, `confusionMatrixValues()`, opera cada classe c1, c2 ou c3 separadamente, capturando valores de VP, VN, FP e FN para a classe designada individualmente. Esses valores são retornados na ordem citada."
      ],
      "metadata": {
        "id": "eeTVRGFToCOJ"
      }
    },
    {
      "cell_type": "code",
      "source": [
        "## calcula valores de VP, VN, FP e FN para um dado label\n",
        "def confusionMatrixValues(X_test, y_test, predicted, classLabel): \n",
        "    labelIndex = getClassIndex(classLabel)\n",
        "    ## pega total de positivos e negativos\n",
        "    positives_count = y_test[classLabel].value_counts().to_list()[1]\n",
        "    negatives_count = y_test[classLabel].value_counts().to_list()[0]\n",
        "    \n",
        "    expected = y_test[classLabel].tolist()\n",
        "    \n",
        "    vp = 0\n",
        "    vn = 0\n",
        "\n",
        "    ## Calcula total de verdadeiros negativos e verdadeiros positivos\n",
        "    for i in range(len(expected)):\n",
        "        if predicted[i][labelIndex] == 1 and expected[i] == 1:\n",
        "            vp += 1\n",
        "        if predicted[i][labelIndex] == 0 and expected[i] == 0:\n",
        "            vn += 1\n",
        "    \n",
        "    ## Utiliza valores já encontrados para calcular os valores faltantes\n",
        "    fp = negatives_count - vn\n",
        "    fn = positives_count - vp \n",
        "    \n",
        "    return vp, vn, fp, fn"
      ],
      "metadata": {
        "id": "mm3LL955dRtf"
      },
      "execution_count": null,
      "outputs": []
    },
    {
      "cell_type": "markdown",
      "source": [
        "A função `printConfusionMatrix()` imprime uma matriz de confusão para cada classe c1, c2 ou c3 individualmente:"
      ],
      "metadata": {
        "id": "8wMR6ZQFrgDD"
      }
    },
    {
      "cell_type": "code",
      "source": [
        "def printConfusionMatrix(classLabel, vp, vn, fp, fn):\n",
        "    print('Matriz de confusão para ', classLabel, '\\n')\n",
        "    print('                   predição:      ')\n",
        "    print('            verdadeiro   falso    ')\n",
        "    print('|----------|----------|----------|')\n",
        "    print('|verdadeiro| ', vp, '\\t', fn)\n",
        "    print('|falso     | ', fp, '\\t', vn)\n",
        "    print('\\n')\n",
        "    "
      ],
      "metadata": {
        "id": "ych7OML0rseZ"
      },
      "execution_count": null,
      "outputs": []
    },
    {
      "cell_type": "markdown",
      "source": [
        "A função `calculateMetrics()` faz o cálculo de recall, precisão e f1 para cada classe c1, c2 ou c3 que foi chamada por `confusionMatrixValues()`. Retorna os três valores.\n",
        "\n"
      ],
      "metadata": {
        "id": "4-gMYVbepH7M"
      }
    },
    {
      "cell_type": "code",
      "source": [
        "## Função para calcular métricas de desempenho da matriz de confusão (para cada classe)\n",
        "def calculateMetrics(vp, vn, fp, fn):\n",
        "\n",
        "    ## calculo do recall\n",
        "    rev = vp/(vp + fn)\n",
        "    # print('Recall: ', rev)\n",
        "    \n",
        "    ## calculo da precisão\n",
        "    prec = vp/(vp + fp)\n",
        "    # print('Precisao: ', prec)\n",
        "    \n",
        "    ## calculo F1 \n",
        "    f1 = 2 * ((prec * rev)/(prec + rev))\n",
        "    # print('F1: ', f1)\n",
        "\n",
        "    return rev, prec, f1"
      ],
      "metadata": {
        "id": "b5qkWjmCou3J"
      },
      "execution_count": null,
      "outputs": []
    },
    {
      "cell_type": "markdown",
      "source": [
        "A função `globalandMacroStats()` recebe os acumuladores da `confusionMatrix()`, calcula acurácia global e macro médias e imprime os resultados na tela."
      ],
      "metadata": {
        "id": "7bHjTgxEp68u"
      }
    },
    {
      "cell_type": "code",
      "source": [
        "def globalAndMacroStats(global_acc, macro_rev, macro_prec, macro_f1, n):\n",
        "    # print(\"Acurácia global: \", global_acc/n)\n",
        "    # print(\"\\nMACRO MÉDIAS:\")\n",
        "    # print(\"Macro Recall: \", macro_rev/3)\n",
        "    # print(\"Macro Precisão: \", macro_prec/3)\n",
        "    # print(\"Macro F1: \", macro_f1/3)\n",
        "    return [global_acc/n, macro_rev/3, macro_prec/3, macro_f1/3]"
      ],
      "metadata": {
        "id": "-zDk960Xp6b4"
      },
      "execution_count": null,
      "outputs": []
    },
    {
      "cell_type": "markdown",
      "source": [
        "A função `confusionMatrix(X_test, y_test)` executa a fase de testes do modelo + todos os passos e funções auxiliares criadas para implementar a matriz de confusão para avaliação do desempenho, sendo a função final a ser chamada para avaliar o treinamento."
      ],
      "metadata": {
        "id": "_j3eDr9gmYmj"
      }
    },
    {
      "cell_type": "code",
      "source": [
        "def confusionMatrix(X_test, y_test, predicted):\n",
        "    ## Acumuladores para cálculo de macro médias:\n",
        "    macro_rev = 0\n",
        "    macro_prec = 0\n",
        "    macro_f1 = 0\n",
        "\n",
        "    ## Acumulador para acurácia global\n",
        "    global_acc = 0\n",
        "\n",
        "    ## Calculando matrizes de confusão\n",
        "    vp, vn, fp, fn = confusionMatrixValues(X_test, y_test, predicted, 'GALAXY')\n",
        "    # printConfusionMatrix('GALAXY', vp, vn, fp, fn)\n",
        "    rev, prec, f1 = calculateMetrics(vp, vn, fp, fn)\n",
        "\n",
        "    ## Atualiza acumuladores\n",
        "    global_acc += vp\n",
        "    macro_rev += rev\n",
        "    macro_prec += prec\n",
        "    macro_f1 += f1\n",
        "\n",
        "    ## Obtém valor de n\n",
        "    n = vp + vn + fp + fn\n",
        "    # print('\\n')\n",
        "\n",
        "    vp, vn, fp, fn = confusionMatrixValues(X_test, y_test, predicted, 'QSO')\n",
        "    # printConfusionMatrix('QSO', vp, vn, fp, fn)\n",
        "    rev, prec, f1 = calculateMetrics(vp, vn, fp, fn)\n",
        "\n",
        "    global_acc += vp\n",
        "    macro_rev += rev\n",
        "    macro_prec += prec\n",
        "    macro_f1 += f1\n",
        "    # print('\\n')\n",
        "\n",
        "    vp, vn, fp, fn = confusionMatrixValues(X_test, y_test, predicted, 'STAR')\n",
        "    # printConfusionMatrix('STAR', vp, vn, fp, fn)\n",
        "    rev, prec, f1 = calculateMetrics(vp, vn, fp, fn)\n",
        "\n",
        "    global_acc += vp\n",
        "    macro_rev += rev\n",
        "    macro_prec += prec\n",
        "    macro_f1 += f1\n",
        "    # print('\\n')\n",
        "\n",
        "    ## Operando acumuladores para os cálculos globais e imprimindo\n",
        "    return globalAndMacroStats(global_acc, macro_rev, macro_prec, macro_f1, n)"
      ],
      "metadata": {
        "id": "LO3wSs-UmRbC"
      },
      "execution_count": null,
      "outputs": []
    },
    {
      "cell_type": "markdown",
      "source": [
        "## 2. K-Fold Estratificado com Validação Cruzada"
      ],
      "metadata": {
        "id": "rMsPG4U2xp-m"
      }
    },
    {
      "cell_type": "code",
      "source": [
        "# Implementação da estratégia KFold\n",
        "def custom_kfold(attributes, classes, folds, classesIds):\n",
        "    merged_dataset = pd.concat([attributes, classes], axis = 1)\n",
        "    result_folds = [pd.DataFrame() for index in range(folds)]\n",
        "    classes_map = { classId: pd.DataFrame() for classId in classesIds }\n",
        "\n",
        "    for classId in classesIds:\n",
        "        classes_map[classId] = merged_dataset[merged_dataset[classId] == 1]\n",
        "        \n",
        "    for classId in classesIds:\n",
        "        partitioned_class = np.array_split(classes_map[classId], folds)\n",
        "        for index in range(folds):\n",
        "            result_folds[index] = pd.concat([result_folds[index], partitioned_class[index]])\n",
        "\n",
        "    return result_folds\n",
        "\n",
        "# Divide o dataset/matriz de instâncias em duas matrizes de atributos e classes, respectivamente\n",
        "def split_dataset (dataset, classes):\n",
        "    attributes = dataset.drop(classes, axis = 1)\n",
        "    classes = dataset.loc[:, classes]\n",
        "    return attributes, classes\n",
        "\n",
        "# Concatena os dados do tipo DataFrame (matriz de dados) da biblioteca pandas em um DataFrame só\n",
        "def concat_panda_elements (array):\n",
        "    result = pd.DataFrame()\n",
        "    for element in array:\n",
        "        result = pd.concat([result, element])\n",
        "    return result\n",
        "\n",
        "# Recebe os folds criado pela função custom_kfold e o classificador. \n",
        "# Treina os dados dos folds no classificador, depois ele prediz os dados de teste, \n",
        "# e então é chamado a função confusionMatrix com esses dados preditos, \n",
        "# para fazer o cálculo das métricas do classificador\n",
        "def kfold_validate(kfold, classifier):\n",
        "    result = []\n",
        "    for index, fold in enumerate(kfold):\n",
        "        test_folds = np.delete(kfold, index)\n",
        "        test_folds = concat_panda_elements(test_folds)\n",
        "        x_train, y_train = split_dataset(test_folds, ['GALAXY', 'QSO', 'STAR'])\n",
        "        x_test, y_test = split_dataset(fold, ['GALAXY', 'QSO', 'STAR'])\n",
        "        classifier.fit(x_train, y_train)\n",
        "        result.append(confusionMatrix(x_test, y_test, classifier.predict(x_test)))\n",
        "    return result\n",
        "\n",
        "# Faz a macro média das métricas obtidas por cada fold do classificador\n",
        "def calculate_macro_mean(metrics):\n",
        "    a = [0,0,0,0]\n",
        "    for metric in metrics:\n",
        "        a = np.add(a, metric)\n",
        "    for i, metric in enumerate(a):\n",
        "        a[i] = metric/5\n",
        "    return a"
      ],
      "metadata": {
        "id": "MT7izvKmjsyb"
      },
      "execution_count": null,
      "outputs": []
    },
    {
      "cell_type": "markdown",
      "source": [
        "# Treinamento e resultados"
      ],
      "metadata": {
        "id": "eWDOmxqvl0y-"
      }
    },
    {
      "cell_type": "code",
      "source": [
        "import time\n",
        "from sklearn.tree import DecisionTreeClassifier\n",
        "from sklearn.neural_network import MLPClassifier\n",
        "from sklearn.ensemble import RandomForestClassifier\n",
        "kfold_data = custom_kfold(x, encoded_data, 5, ['GALAXY', 'QSO', 'STAR'])\n",
        "\n",
        "decision_tree_classifier = DecisionTreeClassifier(max_depth=5, class_weight='balanced', random_state=42)\n",
        "neural_network_classifier = MLPClassifier(random_state=42)\n",
        "random_forest_classifier = RandomForestClassifier(max_depth=5, random_state=42)\n",
        "\n",
        "start = time.time()\n",
        "metrics_decision = calculate_macro_mean(kfold_validate(kfold_data, decision_tree_classifier))\n",
        "decision_time = time.time()\n",
        "metrics_neural = calculate_macro_mean(kfold_validate(kfold_data, neural_network_classifier))\n",
        "neural_time = time.time()\n",
        "metrics_random_forest = calculate_macro_mean(kfold_validate(kfold_data, random_forest_classifier))\n",
        "random_forest_time = time.time()\n",
        "\n",
        "\n",
        "print(metrics_decision)\n",
        "print(metrics_neural)\n",
        "print(metrics_random_forest)\n",
        "\n",
        "print(\"\\nArvore Decisão:\")\n",
        "print(\"Desempenho médio: \", np.mean(metrics_decision))\n",
        "print(\"Desvio padrão: \", np.std(metrics_decision))\n",
        "print(\"Tempo de execução: \", decision_time - start)\n",
        "\n",
        "print(\"\\nRede Neural:\")\n",
        "print(\"Desempenho médio: \", np.mean(metrics_neural))\n",
        "print(\"Desvio padrão: \", np.std(metrics_neural))\n",
        "print(\"Tempo de execução: \", neural_time - decision_time)\n",
        "\n",
        "print(\"\\nFloresta Rand.:\")\n",
        "print(\"Desempenho médio: \", np.mean(metrics_random_forest))\n",
        "print(\"Desvio padrão: \", np.std(metrics_random_forest))\n",
        "print(\"Tempo de execução: \", random_forest_time - neural_time)\n",
        "\n",
        "results=[]\n",
        "results.append(metrics_decision)\n",
        "results.append(metrics_random_forest)\n",
        "results.append(metrics_neural)\n",
        "plt.boxplot(results, labels=['DT','RF', 'NN'], showmeans=True)\n",
        "plt.show()\n",
        "#clf_dt.fit(X=X_train, y=y_train)"
      ],
      "metadata": {
        "id": "AROjuRdfYE6l",
        "colab": {
          "base_uri": "https://localhost:8080/"
        },
        "outputId": "cf80831b-10b5-412b-c19e-9192bc193567"
      },
      "execution_count": null,
      "outputs": [
        {
          "output_type": "stream",
          "name": "stderr",
          "text": [
            "/usr/local/lib/python3.8/dist-packages/numpy/lib/function_base.py:5030: VisibleDeprecationWarning: Creating an ndarray from ragged nested sequences (which is a list-or-tuple of lists-or-tuples-or ndarrays with different lengths or shapes) is deprecated. If you meant to do this, you must specify 'dtype=object' when creating the ndarray.\n",
            "  arr = asarray(arr)\n",
            "/usr/local/lib/python3.8/dist-packages/numpy/lib/function_base.py:5030: VisibleDeprecationWarning: Creating an ndarray from ragged nested sequences (which is a list-or-tuple of lists-or-tuples-or ndarrays with different lengths or shapes) is deprecated. If you meant to do this, you must specify 'dtype=object' when creating the ndarray.\n",
            "  arr = asarray(arr)\n",
            "/usr/local/lib/python3.8/dist-packages/numpy/lib/function_base.py:5030: VisibleDeprecationWarning: Creating an ndarray from ragged nested sequences (which is a list-or-tuple of lists-or-tuples-or ndarrays with different lengths or shapes) is deprecated. If you meant to do this, you must specify 'dtype=object' when creating the ndarray.\n",
            "  arr = asarray(arr)\n",
            "/usr/local/lib/python3.8/dist-packages/numpy/lib/function_base.py:5030: VisibleDeprecationWarning: Creating an ndarray from ragged nested sequences (which is a list-or-tuple of lists-or-tuples-or ndarrays with different lengths or shapes) is deprecated. If you meant to do this, you must specify 'dtype=object' when creating the ndarray.\n",
            "  arr = asarray(arr)\n",
            "/usr/local/lib/python3.8/dist-packages/numpy/lib/function_base.py:5030: VisibleDeprecationWarning: Creating an ndarray from ragged nested sequences (which is a list-or-tuple of lists-or-tuples-or ndarrays with different lengths or shapes) is deprecated. If you meant to do this, you must specify 'dtype=object' when creating the ndarray.\n",
            "  arr = asarray(arr)\n",
            "/usr/local/lib/python3.8/dist-packages/numpy/lib/function_base.py:5030: VisibleDeprecationWarning: Creating an ndarray from ragged nested sequences (which is a list-or-tuple of lists-or-tuples-or ndarrays with different lengths or shapes) is deprecated. If you meant to do this, you must specify 'dtype=object' when creating the ndarray.\n",
            "  arr = asarray(arr)\n",
            "/usr/local/lib/python3.8/dist-packages/numpy/lib/function_base.py:5030: VisibleDeprecationWarning: Creating an ndarray from ragged nested sequences (which is a list-or-tuple of lists-or-tuples-or ndarrays with different lengths or shapes) is deprecated. If you meant to do this, you must specify 'dtype=object' when creating the ndarray.\n",
            "  arr = asarray(arr)\n",
            "/usr/local/lib/python3.8/dist-packages/numpy/lib/function_base.py:5030: VisibleDeprecationWarning: Creating an ndarray from ragged nested sequences (which is a list-or-tuple of lists-or-tuples-or ndarrays with different lengths or shapes) is deprecated. If you meant to do this, you must specify 'dtype=object' when creating the ndarray.\n",
            "  arr = asarray(arr)\n",
            "/usr/local/lib/python3.8/dist-packages/numpy/lib/function_base.py:5030: VisibleDeprecationWarning: Creating an ndarray from ragged nested sequences (which is a list-or-tuple of lists-or-tuples-or ndarrays with different lengths or shapes) is deprecated. If you meant to do this, you must specify 'dtype=object' when creating the ndarray.\n",
            "  arr = asarray(arr)\n",
            "/usr/local/lib/python3.8/dist-packages/numpy/lib/function_base.py:5030: VisibleDeprecationWarning: Creating an ndarray from ragged nested sequences (which is a list-or-tuple of lists-or-tuples-or ndarrays with different lengths or shapes) is deprecated. If you meant to do this, you must specify 'dtype=object' when creating the ndarray.\n",
            "  arr = asarray(arr)\n",
            "/usr/local/lib/python3.8/dist-packages/numpy/lib/function_base.py:5030: VisibleDeprecationWarning: Creating an ndarray from ragged nested sequences (which is a list-or-tuple of lists-or-tuples-or ndarrays with different lengths or shapes) is deprecated. If you meant to do this, you must specify 'dtype=object' when creating the ndarray.\n",
            "  arr = asarray(arr)\n",
            "/usr/local/lib/python3.8/dist-packages/numpy/lib/function_base.py:5030: VisibleDeprecationWarning: Creating an ndarray from ragged nested sequences (which is a list-or-tuple of lists-or-tuples-or ndarrays with different lengths or shapes) is deprecated. If you meant to do this, you must specify 'dtype=object' when creating the ndarray.\n",
            "  arr = asarray(arr)\n",
            "/usr/local/lib/python3.8/dist-packages/numpy/lib/function_base.py:5030: VisibleDeprecationWarning: Creating an ndarray from ragged nested sequences (which is a list-or-tuple of lists-or-tuples-or ndarrays with different lengths or shapes) is deprecated. If you meant to do this, you must specify 'dtype=object' when creating the ndarray.\n",
            "  arr = asarray(arr)\n",
            "/usr/local/lib/python3.8/dist-packages/numpy/lib/function_base.py:5030: VisibleDeprecationWarning: Creating an ndarray from ragged nested sequences (which is a list-or-tuple of lists-or-tuples-or ndarrays with different lengths or shapes) is deprecated. If you meant to do this, you must specify 'dtype=object' when creating the ndarray.\n",
            "  arr = asarray(arr)\n",
            "/usr/local/lib/python3.8/dist-packages/numpy/lib/function_base.py:5030: VisibleDeprecationWarning: Creating an ndarray from ragged nested sequences (which is a list-or-tuple of lists-or-tuples-or ndarrays with different lengths or shapes) is deprecated. If you meant to do this, you must specify 'dtype=object' when creating the ndarray.\n",
            "  arr = asarray(arr)\n"
          ]
        },
        {
          "output_type": "stream",
          "name": "stdout",
          "text": [
            "[0.9648204  0.9648204  0.96497019 0.96481398]\n",
            "[0.96355483 0.96355483 0.96419022 0.96351562]\n",
            "[0.96319957 0.96319957 0.96472485 0.96389244]\n",
            "\n",
            "Arvore Decisão:\n",
            "Desempenho médio:  0.9648562435695252\n",
            "Desvio padrão:  6.58379955054117e-05\n",
            "Tempo de execução:  2.234773635864258\n",
            "\n",
            "Rede Neural:\n",
            "Desempenho médio:  0.963703874647585\n",
            "Desvio padrão:  0.00028124808051215814\n",
            "Tempo de execução:  179.377943277359\n",
            "\n",
            "Floresta Rand.:\n",
            "Desempenho médio:  0.9637541062277308\n",
            "Desvio padrão:  0.0006277919925233845\n",
            "Tempo de execução:  47.11000061035156\n"
          ]
        },
        {
          "output_type": "display_data",
          "data": {
            "text/plain": [
              "<Figure size 432x288 with 1 Axes>"
            ],
            "image/png": "[encoded data removed]"
          },
          "metadata": {
            "needs_background": "light"
          }
        }
      ]
    }
  ]
}